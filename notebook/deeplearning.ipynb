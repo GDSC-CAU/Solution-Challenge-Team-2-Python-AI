{
  "cells": [
    {
      "cell_type": "code",
      "execution_count": null,
      "metadata": {
        "colab": {
          "base_uri": "https://localhost:8080/"
        },
        "id": "UsTCD03xFJAY",
        "outputId": "7f05d207-6401-41f7-e9c5-029d2d3b1822"
      },
      "outputs": [],
      "source": [
        "# !pip3 install shap"
      ]
    },
    {
      "cell_type": "code",
      "execution_count": 15,
      "metadata": {
        "id": "3fDHtHH_Eyzj"
      },
      "outputs": [],
      "source": [
        "import numpy as np\n",
        "import pandas as pd\n",
        "import tensorflow as tf\n",
        "import shap\n",
        "from tensorflow.keras import layers\n",
        "from sklearn.model_selection import train_test_split"
      ]
    },
    {
      "cell_type": "code",
      "execution_count": 17,
      "metadata": {
        "id": "U8xFPZWEEyzm"
      },
      "outputs": [],
      "source": [
        "df = pd.read_csv(\"YOUR_PATH/wiro_dataframe\")\n",
        "\n",
        "features_df = df.loc[:, \"brain_activity\":\"social_activity\"]\n",
        "target_df = df.loc[:, \"likelihood_lonely_death\"]"
      ]
    },
    {
      "cell_type": "code",
      "execution_count": 18,
      "metadata": {
        "colab": {
          "base_uri": "https://localhost:8080/"
        },
        "id": "ufMle4g-Eyzn",
        "outputId": "15f13649-0303-4dc7-d098-9901703184ba"
      },
      "outputs": [
        {
          "name": "stdout",
          "output_type": "stream",
          "text": [
            "   brain_activity   emotion  environment  exercise  nutrition      rest  \\\n",
            "0       -0.634823 -0.475006    -0.743266 -0.664265  -0.363478 -0.823816   \n",
            "1       -0.013181  0.880469    -0.928199 -0.055139   0.862740  0.541524   \n",
            "2       -0.104154 -0.207704    -0.034052 -0.530444   0.453507  0.224421   \n",
            "3       -0.545169 -0.260231    -0.897574 -0.753710  -0.996095  0.517238   \n",
            "4       -0.377681 -0.649020    -0.803867 -0.785357  -0.688235 -0.428915   \n",
            "\n",
            "   social_activity  \n",
            "0        -0.755393  \n",
            "1         0.714981  \n",
            "2        -0.431919  \n",
            "3        -1.309136  \n",
            "4        -0.635021  \n",
            "0    6.394778\n",
            "1    1.161905\n",
            "2    3.330367\n",
            "3    5.516239\n",
            "4    6.194333\n",
            "Name: likelihood_lonely_death, dtype: float64\n"
          ]
        }
      ],
      "source": [
        "X_train, X_test, y_train, y_test = train_test_split(features_df, target_df, shuffle= False)\n",
        "\n",
        "print(X_train.head())\n",
        "print(y_train.head())"
      ]
    },
    {
      "cell_type": "code",
      "execution_count": 26,
      "metadata": {
        "colab": {
          "base_uri": "https://localhost:8080/"
        },
        "id": "JoAiJW6DEyzo",
        "outputId": "cc094e2f-c7b0-413f-ba07-fe18e68616c3"
      },
      "outputs": [
        {
          "name": "stdout",
          "output_type": "stream",
          "text": [
            "Epoch 1/50\n",
            "7500/7500 [==============================] - 11s 1ms/step - loss: 0.2727 - mae: 0.3288\n",
            "Epoch 2/50\n",
            "7500/7500 [==============================] - 10s 1ms/step - loss: 0.1111 - mae: 0.2644\n",
            "Epoch 3/50\n",
            "7500/7500 [==============================] - 10s 1ms/step - loss: 0.1091 - mae: 0.2607\n",
            "Epoch 4/50\n",
            "7500/7500 [==============================] - 10s 1ms/step - loss: 0.1064 - mae: 0.2578\n",
            "Epoch 5/50\n",
            "7500/7500 [==============================] - 9s 1ms/step - loss: 0.1049 - mae: 0.2558\n",
            "Epoch 6/50\n",
            "7500/7500 [==============================] - 10s 1ms/step - loss: 0.1031 - mae: 0.2548\n",
            "Epoch 7/50\n",
            "7500/7500 [==============================] - 10s 1ms/step - loss: 0.1018 - mae: 0.2513\n",
            "Epoch 8/50\n",
            "7500/7500 [==============================] - 11s 1ms/step - loss: 0.1022 - mae: 0.2520\n",
            "Epoch 9/50\n",
            "7500/7500 [==============================] - 10s 1ms/step - loss: 0.1005 - mae: 0.2508\n",
            "Epoch 10/50\n",
            "7500/7500 [==============================] - 10s 1ms/step - loss: 0.0982 - mae: 0.2473\n",
            "Epoch 11/50\n",
            "7500/7500 [==============================] - 11s 1ms/step - loss: 0.0990 - mae: 0.2487\n",
            "Epoch 12/50\n",
            "7500/7500 [==============================] - 10s 1ms/step - loss: 0.0989 - mae: 0.2481\n",
            "Epoch 13/50\n",
            "7500/7500 [==============================] - 10s 1ms/step - loss: 0.0975 - mae: 0.2464\n",
            "Epoch 14/50\n",
            "7500/7500 [==============================] - 10s 1ms/step - loss: 0.0975 - mae: 0.2471\n",
            "Epoch 15/50\n",
            "7500/7500 [==============================] - 10s 1ms/step - loss: 0.0982 - mae: 0.2475\n",
            "Epoch 16/50\n",
            "7500/7500 [==============================] - 10s 1ms/step - loss: 0.0968 - mae: 0.2457\n",
            "Epoch 17/50\n",
            "7500/7500 [==============================] - 10s 1ms/step - loss: 0.0973 - mae: 0.2463\n",
            "Epoch 18/50\n",
            "7500/7500 [==============================] - 10s 1ms/step - loss: 0.0966 - mae: 0.2464\n",
            "Epoch 19/50\n",
            "7500/7500 [==============================] - 10s 1ms/step - loss: 0.0953 - mae: 0.2440\n",
            "Epoch 20/50\n",
            "7500/7500 [==============================] - 10s 1ms/step - loss: 0.0966 - mae: 0.2460\n",
            "Epoch 21/50\n",
            "7500/7500 [==============================] - 10s 1ms/step - loss: 0.0955 - mae: 0.2437\n",
            "Epoch 22/50\n",
            "7500/7500 [==============================] - 10s 1ms/step - loss: 0.0950 - mae: 0.2436\n",
            "Epoch 23/50\n",
            "7500/7500 [==============================] - 10s 1ms/step - loss: 0.0958 - mae: 0.2434\n",
            "Epoch 24/50\n",
            "7500/7500 [==============================] - 10s 1ms/step - loss: 0.0954 - mae: 0.2439\n",
            "Epoch 25/50\n",
            "7500/7500 [==============================] - 11s 1ms/step - loss: 0.0951 - mae: 0.2440\n",
            "Epoch 26/50\n",
            "7500/7500 [==============================] - 10s 1ms/step - loss: 0.0937 - mae: 0.2418\n",
            "Epoch 27/50\n",
            "7500/7500 [==============================] - 10s 1ms/step - loss: 0.0953 - mae: 0.2435\n",
            "Epoch 28/50\n",
            "7500/7500 [==============================] - 10s 1ms/step - loss: 0.0938 - mae: 0.2416\n",
            "Epoch 29/50\n",
            "7500/7500 [==============================] - 11s 1ms/step - loss: 0.0941 - mae: 0.2424\n",
            "Epoch 30/50\n",
            "7500/7500 [==============================] - 11s 1ms/step - loss: 0.0941 - mae: 0.2426\n",
            "Epoch 31/50\n",
            "7500/7500 [==============================] - 11s 1ms/step - loss: 0.0931 - mae: 0.2411\n",
            "Epoch 32/50\n",
            "7500/7500 [==============================] - 10s 1ms/step - loss: 0.0936 - mae: 0.2413\n",
            "Epoch 33/50\n",
            "7500/7500 [==============================] - 9s 1ms/step - loss: 0.0932 - mae: 0.2418\n",
            "Epoch 34/50\n",
            "7500/7500 [==============================] - 10s 1ms/step - loss: 0.0935 - mae: 0.2417\n",
            "Epoch 35/50\n",
            "7500/7500 [==============================] - 10s 1ms/step - loss: 0.0936 - mae: 0.2414\n",
            "Epoch 36/50\n",
            "7500/7500 [==============================] - 11s 1ms/step - loss: 0.0934 - mae: 0.2421\n",
            "Epoch 37/50\n",
            "7500/7500 [==============================] - 10s 1ms/step - loss: 0.0929 - mae: 0.2401\n",
            "Epoch 38/50\n",
            "7500/7500 [==============================] - 10s 1ms/step - loss: 0.0930 - mae: 0.2408\n",
            "Epoch 39/50\n",
            "7500/7500 [==============================] - 10s 1ms/step - loss: 0.0930 - mae: 0.2408\n",
            "Epoch 40/50\n",
            "7500/7500 [==============================] - 10s 1ms/step - loss: 0.0928 - mae: 0.2411\n",
            "Epoch 41/50\n",
            "7500/7500 [==============================] - 10s 1ms/step - loss: 0.0925 - mae: 0.2408\n",
            "Epoch 42/50\n",
            "7500/7500 [==============================] - 10s 1ms/step - loss: 0.0927 - mae: 0.2408\n",
            "Epoch 43/50\n",
            "7500/7500 [==============================] - 10s 1ms/step - loss: 0.0925 - mae: 0.2400\n",
            "Epoch 44/50\n",
            "7500/7500 [==============================] - 10s 1ms/step - loss: 0.0929 - mae: 0.2405\n",
            "Epoch 45/50\n",
            "7500/7500 [==============================] - 10s 1ms/step - loss: 0.0925 - mae: 0.2403\n",
            "Epoch 46/50\n",
            "7500/7500 [==============================] - 10s 1ms/step - loss: 0.0920 - mae: 0.2394\n",
            "Epoch 47/50\n",
            "7500/7500 [==============================] - 10s 1ms/step - loss: 0.0927 - mae: 0.2414\n",
            "Epoch 48/50\n",
            "7500/7500 [==============================] - 10s 1ms/step - loss: 0.0922 - mae: 0.2401\n",
            "Epoch 49/50\n",
            "7500/7500 [==============================] - 11s 1ms/step - loss: 0.0921 - mae: 0.2399\n",
            "Epoch 50/50\n",
            "7500/7500 [==============================] - 10s 1ms/step - loss: 0.0915 - mae: 0.2385\n"
          ]
        }
      ],
      "source": [
        "input_shape = (7,)\n",
        "\n",
        "model = tf.keras.Sequential([\n",
        "    layers.Dense(14, activation='relu', input_shape=input_shape),\n",
        "    layers.Dense(14),\n",
        "    layers.Dense(7),\n",
        "    layers.Dense(5),\n",
        "    layers.Dense(1)\n",
        "])\n",
        "\n",
        "model.compile(optimizer=tf.keras.optimizers.Adam(0.001), loss='mse', metrics=['mae'])\n",
        "\n",
        "history = model.fit(X_train, y_train, epochs=50, batch_size=1)"
      ]
    },
    {
      "cell_type": "code",
      "execution_count": null,
      "metadata": {
        "colab": {
          "base_uri": "https://localhost:8080/",
          "height": 93,
          "referenced_widgets": [
            "b55622a90db944b296e0c96e448b6ec6",
            "d9f792f299d740818776094929f0ec24",
            "c0734ecdf8524acc8bf600ab16101e2e",
            "20ae046cd458452e9065f15d2670664e",
            "d5ed828b00f44a48a924d87f862e3aeb",
            "6c362fc8ed1d4cb580a567d33e097a06",
            "07bbd2d9418146c1a2b5826db999b3a8",
            "c26c602e2cab4828bd4d3c99c80b05f1",
            "bd0c7cdb0c1b4f949b3fb46e0ef646da",
            "dd2af0a8650941e1892f2133fae533a2",
            "83d3ed62c0e646d6a410931267184ac4"
          ]
        },
        "id": "5rfCp7o3Eyzp",
        "outputId": "5f2874f4-8e65-49e8-bb88-ead55753f42b"
      },
      "outputs": [],
      "source": [
        "shap.initjs()\n",
        "\n",
        "background = shap.sample(X_train, nsamples= 500)\n",
        "\n",
        "explainer = shap.KernelExplainer(model, data= background)\n",
        "\n",
        "shap_values = explainer.shap_values(shap.sample(X_test, 250))[0]"
      ]
    },
    {
      "cell_type": "code",
      "execution_count": 28,
      "metadata": {
        "colab": {
          "base_uri": "https://localhost:8080/"
        },
        "id": "EoAhsX81Eyzp",
        "outputId": "34d650c9-5f35-4546-ff2d-9457362b4a58"
      },
      "outputs": [
        {
          "data": {
            "text/plain": [
              "array([-0.00365171, -0.06278537, -0.01734128, -0.01570822, -0.00133608,\n",
              "       -0.02190932, -0.05698609])"
            ]
          },
          "execution_count": 28,
          "metadata": {},
          "output_type": "execute_result"
        }
      ],
      "source": [
        "shap_avg = shap_values.mean(axis= 0)\n",
        "shap_avg"
      ]
    }
  ],
  "metadata": {
    "colab": {
      "provenance": []
    },
    "gpuClass": "standard",
    "kernelspec": {
      "display_name": "Python 3",
      "name": "python3"
    },
    "language_info": {
      "name": "python"
    },
    "orig_nbformat": 4,
    "widgets": {
      "application/vnd.jupyter.widget-state+json": {
        "07bbd2d9418146c1a2b5826db999b3a8": {
          "model_module": "@jupyter-widgets/controls",
          "model_module_version": "1.5.0",
          "model_name": "DescriptionStyleModel",
          "state": {
            "_model_module": "@jupyter-widgets/controls",
            "_model_module_version": "1.5.0",
            "_model_name": "DescriptionStyleModel",
            "_view_count": null,
            "_view_module": "@jupyter-widgets/base",
            "_view_module_version": "1.2.0",
            "_view_name": "StyleView",
            "description_width": ""
          }
        },
        "20ae046cd458452e9065f15d2670664e": {
          "model_module": "@jupyter-widgets/controls",
          "model_module_version": "1.5.0",
          "model_name": "HTMLModel",
          "state": {
            "_dom_classes": [],
            "_model_module": "@jupyter-widgets/controls",
            "_model_module_version": "1.5.0",
            "_model_name": "HTMLModel",
            "_view_count": null,
            "_view_module": "@jupyter-widgets/controls",
            "_view_module_version": "1.5.0",
            "_view_name": "HTMLView",
            "description": "",
            "description_tooltip": null,
            "layout": "IPY_MODEL_dd2af0a8650941e1892f2133fae533a2",
            "placeholder": "​",
            "style": "IPY_MODEL_83d3ed62c0e646d6a410931267184ac4",
            "value": " 250/250 [03:46&lt;00:00,  2.41it/s]"
          }
        },
        "6c362fc8ed1d4cb580a567d33e097a06": {
          "model_module": "@jupyter-widgets/base",
          "model_module_version": "1.2.0",
          "model_name": "LayoutModel",
          "state": {
            "_model_module": "@jupyter-widgets/base",
            "_model_module_version": "1.2.0",
            "_model_name": "LayoutModel",
            "_view_count": null,
            "_view_module": "@jupyter-widgets/base",
            "_view_module_version": "1.2.0",
            "_view_name": "LayoutView",
            "align_content": null,
            "align_items": null,
            "align_self": null,
            "border": null,
            "bottom": null,
            "display": null,
            "flex": null,
            "flex_flow": null,
            "grid_area": null,
            "grid_auto_columns": null,
            "grid_auto_flow": null,
            "grid_auto_rows": null,
            "grid_column": null,
            "grid_gap": null,
            "grid_row": null,
            "grid_template_areas": null,
            "grid_template_columns": null,
            "grid_template_rows": null,
            "height": null,
            "justify_content": null,
            "justify_items": null,
            "left": null,
            "margin": null,
            "max_height": null,
            "max_width": null,
            "min_height": null,
            "min_width": null,
            "object_fit": null,
            "object_position": null,
            "order": null,
            "overflow": null,
            "overflow_x": null,
            "overflow_y": null,
            "padding": null,
            "right": null,
            "top": null,
            "visibility": null,
            "width": null
          }
        },
        "83d3ed62c0e646d6a410931267184ac4": {
          "model_module": "@jupyter-widgets/controls",
          "model_module_version": "1.5.0",
          "model_name": "DescriptionStyleModel",
          "state": {
            "_model_module": "@jupyter-widgets/controls",
            "_model_module_version": "1.5.0",
            "_model_name": "DescriptionStyleModel",
            "_view_count": null,
            "_view_module": "@jupyter-widgets/base",
            "_view_module_version": "1.2.0",
            "_view_name": "StyleView",
            "description_width": ""
          }
        },
        "b55622a90db944b296e0c96e448b6ec6": {
          "model_module": "@jupyter-widgets/controls",
          "model_module_version": "1.5.0",
          "model_name": "HBoxModel",
          "state": {
            "_dom_classes": [],
            "_model_module": "@jupyter-widgets/controls",
            "_model_module_version": "1.5.0",
            "_model_name": "HBoxModel",
            "_view_count": null,
            "_view_module": "@jupyter-widgets/controls",
            "_view_module_version": "1.5.0",
            "_view_name": "HBoxView",
            "box_style": "",
            "children": [
              "IPY_MODEL_d9f792f299d740818776094929f0ec24",
              "IPY_MODEL_c0734ecdf8524acc8bf600ab16101e2e",
              "IPY_MODEL_20ae046cd458452e9065f15d2670664e"
            ],
            "layout": "IPY_MODEL_d5ed828b00f44a48a924d87f862e3aeb"
          }
        },
        "bd0c7cdb0c1b4f949b3fb46e0ef646da": {
          "model_module": "@jupyter-widgets/controls",
          "model_module_version": "1.5.0",
          "model_name": "ProgressStyleModel",
          "state": {
            "_model_module": "@jupyter-widgets/controls",
            "_model_module_version": "1.5.0",
            "_model_name": "ProgressStyleModel",
            "_view_count": null,
            "_view_module": "@jupyter-widgets/base",
            "_view_module_version": "1.2.0",
            "_view_name": "StyleView",
            "bar_color": null,
            "description_width": ""
          }
        },
        "c0734ecdf8524acc8bf600ab16101e2e": {
          "model_module": "@jupyter-widgets/controls",
          "model_module_version": "1.5.0",
          "model_name": "FloatProgressModel",
          "state": {
            "_dom_classes": [],
            "_model_module": "@jupyter-widgets/controls",
            "_model_module_version": "1.5.0",
            "_model_name": "FloatProgressModel",
            "_view_count": null,
            "_view_module": "@jupyter-widgets/controls",
            "_view_module_version": "1.5.0",
            "_view_name": "ProgressView",
            "bar_style": "success",
            "description": "",
            "description_tooltip": null,
            "layout": "IPY_MODEL_c26c602e2cab4828bd4d3c99c80b05f1",
            "max": 250,
            "min": 0,
            "orientation": "horizontal",
            "style": "IPY_MODEL_bd0c7cdb0c1b4f949b3fb46e0ef646da",
            "value": 250
          }
        },
        "c26c602e2cab4828bd4d3c99c80b05f1": {
          "model_module": "@jupyter-widgets/base",
          "model_module_version": "1.2.0",
          "model_name": "LayoutModel",
          "state": {
            "_model_module": "@jupyter-widgets/base",
            "_model_module_version": "1.2.0",
            "_model_name": "LayoutModel",
            "_view_count": null,
            "_view_module": "@jupyter-widgets/base",
            "_view_module_version": "1.2.0",
            "_view_name": "LayoutView",
            "align_content": null,
            "align_items": null,
            "align_self": null,
            "border": null,
            "bottom": null,
            "display": null,
            "flex": null,
            "flex_flow": null,
            "grid_area": null,
            "grid_auto_columns": null,
            "grid_auto_flow": null,
            "grid_auto_rows": null,
            "grid_column": null,
            "grid_gap": null,
            "grid_row": null,
            "grid_template_areas": null,
            "grid_template_columns": null,
            "grid_template_rows": null,
            "height": null,
            "justify_content": null,
            "justify_items": null,
            "left": null,
            "margin": null,
            "max_height": null,
            "max_width": null,
            "min_height": null,
            "min_width": null,
            "object_fit": null,
            "object_position": null,
            "order": null,
            "overflow": null,
            "overflow_x": null,
            "overflow_y": null,
            "padding": null,
            "right": null,
            "top": null,
            "visibility": null,
            "width": null
          }
        },
        "d5ed828b00f44a48a924d87f862e3aeb": {
          "model_module": "@jupyter-widgets/base",
          "model_module_version": "1.2.0",
          "model_name": "LayoutModel",
          "state": {
            "_model_module": "@jupyter-widgets/base",
            "_model_module_version": "1.2.0",
            "_model_name": "LayoutModel",
            "_view_count": null,
            "_view_module": "@jupyter-widgets/base",
            "_view_module_version": "1.2.0",
            "_view_name": "LayoutView",
            "align_content": null,
            "align_items": null,
            "align_self": null,
            "border": null,
            "bottom": null,
            "display": null,
            "flex": null,
            "flex_flow": null,
            "grid_area": null,
            "grid_auto_columns": null,
            "grid_auto_flow": null,
            "grid_auto_rows": null,
            "grid_column": null,
            "grid_gap": null,
            "grid_row": null,
            "grid_template_areas": null,
            "grid_template_columns": null,
            "grid_template_rows": null,
            "height": null,
            "justify_content": null,
            "justify_items": null,
            "left": null,
            "margin": null,
            "max_height": null,
            "max_width": null,
            "min_height": null,
            "min_width": null,
            "object_fit": null,
            "object_position": null,
            "order": null,
            "overflow": null,
            "overflow_x": null,
            "overflow_y": null,
            "padding": null,
            "right": null,
            "top": null,
            "visibility": null,
            "width": null
          }
        },
        "d9f792f299d740818776094929f0ec24": {
          "model_module": "@jupyter-widgets/controls",
          "model_module_version": "1.5.0",
          "model_name": "HTMLModel",
          "state": {
            "_dom_classes": [],
            "_model_module": "@jupyter-widgets/controls",
            "_model_module_version": "1.5.0",
            "_model_name": "HTMLModel",
            "_view_count": null,
            "_view_module": "@jupyter-widgets/controls",
            "_view_module_version": "1.5.0",
            "_view_name": "HTMLView",
            "description": "",
            "description_tooltip": null,
            "layout": "IPY_MODEL_6c362fc8ed1d4cb580a567d33e097a06",
            "placeholder": "​",
            "style": "IPY_MODEL_07bbd2d9418146c1a2b5826db999b3a8",
            "value": "100%"
          }
        },
        "dd2af0a8650941e1892f2133fae533a2": {
          "model_module": "@jupyter-widgets/base",
          "model_module_version": "1.2.0",
          "model_name": "LayoutModel",
          "state": {
            "_model_module": "@jupyter-widgets/base",
            "_model_module_version": "1.2.0",
            "_model_name": "LayoutModel",
            "_view_count": null,
            "_view_module": "@jupyter-widgets/base",
            "_view_module_version": "1.2.0",
            "_view_name": "LayoutView",
            "align_content": null,
            "align_items": null,
            "align_self": null,
            "border": null,
            "bottom": null,
            "display": null,
            "flex": null,
            "flex_flow": null,
            "grid_area": null,
            "grid_auto_columns": null,
            "grid_auto_flow": null,
            "grid_auto_rows": null,
            "grid_column": null,
            "grid_gap": null,
            "grid_row": null,
            "grid_template_areas": null,
            "grid_template_columns": null,
            "grid_template_rows": null,
            "height": null,
            "justify_content": null,
            "justify_items": null,
            "left": null,
            "margin": null,
            "max_height": null,
            "max_width": null,
            "min_height": null,
            "min_width": null,
            "object_fit": null,
            "object_position": null,
            "order": null,
            "overflow": null,
            "overflow_x": null,
            "overflow_y": null,
            "padding": null,
            "right": null,
            "top": null,
            "visibility": null,
            "width": null
          }
        }
      }
    }
  },
  "nbformat": 4,
  "nbformat_minor": 0
}
