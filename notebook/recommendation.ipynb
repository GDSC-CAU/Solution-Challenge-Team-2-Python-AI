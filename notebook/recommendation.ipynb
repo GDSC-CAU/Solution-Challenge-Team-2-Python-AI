{
 "cells": [
  {
   "cell_type": "code",
   "execution_count": 12,
   "metadata": {},
   "outputs": [],
   "source": [
    "import numpy as np\n",
    "import pandas as pd\n",
    "import random\n",
    "import tensorflow as tf\n",
    "from tensorflow.keras import models\n",
    "from numpy import ndarray"
   ]
  },
  {
   "cell_type": "code",
   "execution_count": 13,
   "metadata": {},
   "outputs": [],
   "source": [
    "checklist_dict = {\n",
    "    1101: \"Do you read frequently?\",\n",
    "    1102: \"Do you maintain good memory?\",\n",
    "    1103: \"Do you keep up with the news?\",\n",
    "    1104: \"Do you engage in mentally stimulating activities?\",\n",
    "    1105: \"Do you read books often?\",\n",
    "    1201: \"Have you experienced something joyful?\",\n",
    "    1202: \"Do you adapt well to change?\",\n",
    "    1203: \"Do you manage stress well?\",\n",
    "    1204: \"Do you live a happy life?\",\n",
    "    1205: \"Are you at peace?\",\n",
    "    1206: \"Do you often feel happy?\",\n",
    "    1301: \"Do you dress warmly?\",\n",
    "    1302: \"Are you good at household chores?\",\n",
    "    1303: \"Do you use transportation well?\",\n",
    "    1304: \"Do you live safely?\",\n",
    "    1305: \"Are you able to ask for help when needed?\",\n",
    "    1306: \"Do you find using a smartphone easy?\",\n",
    "    1307: \"Do you live a clean life?\",\n",
    "    1401: \"Do you feel physically healthy?\",\n",
    "    1402: \"Are you physically strong?\",\n",
    "    1403: \"Are you flexible?\",\n",
    "    1404: \"Do you have good balance?\",\n",
    "    1405: \"Do you exercise regularly?\",\n",
    "    1406: \"Do you have awareness of your physical health?\",\n",
    "    1407: \"Do you manage any discomforts in your body well?\",\n",
    "    1408: \"Do you have good stamina?\",\n",
    "    1501: \"Do you eat well?\",\n",
    "    1502: \"Do you take supplements/medicine regularly?\",\n",
    "    1503: \"Do you eat a nutritious diet?\",\n",
    "    1504: \"Do you drink enough water?\",\n",
    "    1505: \"Do you have a regular meal schedule?\",\n",
    "    1506: \"Do you eat a variety of foods?\",\n",
    "    1601: \"Do you get enough sleep?\",\n",
    "    1602: \"Do you sleep deeply?\",\n",
    "    1603: \"Do you relax during your leisure time?\",\n",
    "    1604: \"Do you wake up refreshed in the morning?\",\n",
    "    1605: \"Do you move around comfortably?\",\n",
    "    1606: \"Do you get enough rest?\",\n",
    "    1701: \"Do you regularly communicate with your family?\",\n",
    "    1702: \"Do you communicate with your friends?\",\n",
    "    1703: \"Do you attend regular gatherings?\",\n",
    "    1704: \"Do you communicate comfortably?\",\n",
    "    1705: \"Do you use a smartphone or computer for social activities?\",\n",
    "    1706: \"Are you currently satisfied with your social activities?\"\n",
    "}\n",
    "mission_dict = {\n",
    "    2101: \"Read paper news\",\n",
    "    2102: \"Solve a puzzle\",\n",
    "    2103: \"Solve Sudoku\",\n",
    "    2104: \"Read a book\",\n",
    "    2105: \"Write a poem\",\n",
    "    2201: \"Laugh a lot\",\n",
    "    2202: \"Listen to music\",\n",
    "    2203: \"Meditate\",\n",
    "    2204: \"Watch a movie\",\n",
    "    2205: \"Plan a trip\",\n",
    "    2206: \"People watch\",\n",
    "    2301: \"Grow a plant\",\n",
    "    2302: \"Do household chores\",\n",
    "    2303: \"Air out the house\",\n",
    "    2304: \"Do a deep cleaning\",\n",
    "    2305: \"Take a half-bath\",\n",
    "    2306: \"Use a comfort app\",\n",
    "    2307: \"Take care of appearance\",\n",
    "    2401: \"Take a 30-minute or longer walk regularly\",\n",
    "    2402: \"Do 30 minutes or more of strength training regularly\",\n",
    "    2403: \"Stretch\",\n",
    "    2404: \"Do balance exercises\",\n",
    "    2405: \"Manage uncomfortable physical parts\",\n",
    "    2406: \"Google for any illnesses you are experiencing\",\n",
    "    2407: \"Climb stairs\",\n",
    "    2501: \"Go to a new restaurant\",\n",
    "    2502: \"Prepare three meals a day\",\n",
    "    2503: \"Make a variety of menus\",\n",
    "    2504: \"Drink 10 cups of water\",\n",
    "    2505: \"Eat at a set mealtime\",\n",
    "    2506: \"Cook food\",\n",
    "    2601: \"Get a lot of sleep\",\n",
    "    2602: \"Create a good sleep environment\",\n",
    "    2603: \"Rest comfortably\",\n",
    "    2604: \"Sleep and wake up at set times\",\n",
    "    2701: \"Contact family\",\n",
    "    2702: \"Contact acquaintances\",\n",
    "    2703: \"Go to a gathering\",\n",
    "    2704: \"Try to talk to people you meet\",\n",
    "    2705: \"Participate in social activities on the internet with your smartphone\",\n",
    "    2706: \"Join a new group\",\n",
    "    2707: \"Go to church\"\n",
    "}"
   ]
  },
  {
   "cell_type": "code",
   "execution_count": 14,
   "metadata": {},
   "outputs": [
    {
     "data": {
      "text/plain": [
       "array([0.08379957, 1.        , 0.38566141, 0.28995785, 0.02637965,\n",
       "       0.38527795, 0.9621829 ])"
      ]
     },
     "execution_count": 14,
     "metadata": {},
     "output_type": "execute_result"
    }
   ],
   "source": [
    "shap_values = np.array([-0.0049126 , -0.05862321, -0.02260871, -0.01699826, -0.00154646, -0.02258623, -0.05640625])\n",
    "\n",
    "adjusted_shap_values = abs(shap_values)\n",
    "adjusted_shap_values /= max(adjusted_shap_values)\n",
    "adjusted_shap_values"
   ]
  },
  {
   "attachments": {},
   "cell_type": "markdown",
   "metadata": {},
   "source": [
    "    1 out of 3 times, mission is readomly chosen, and for other cases recommendation system collect score data from user and multiply with SHAP value, give weigth on week part of user and key feature that caouse lonely death. \n",
    "\n",
    "    Checklist recommendation is fully random, since we wanted to track every feature at the same time."
   ]
  },
  {
   "cell_type": "code",
   "execution_count": 15,
   "metadata": {},
   "outputs": [],
   "source": [
    "def recommend_mission(mission_dict: dict,\n",
    "                      score: ndarray,\n",
    "                      shap_values: ndarray = adjusted_shap_values) -> int:\n",
    "    \n",
    "    \n",
    "    if random.randint(0, 2) == 1:\n",
    "        category = random.randint(1, 7)\n",
    "        code = random.choice([x for x in mission_dict if x > 2000 + category*100 and x < 2000 + (category + 1)*100])\n",
    "\n",
    "        return code\n",
    "\n",
    "    score = list(np.multiply(score, shap_values))\n",
    "    for i, v in enumerate(score):\n",
    "        score[i] = (i + 1, v)\n",
    "\n",
    "    sorted_score = sorted(score, key=lambda tup: tup[1])\n",
    "    category = sorted_score[random.randint(0, 2)][0]\n",
    "\n",
    "    code = random.choice([x for x in mission_dict if x > 2000 + category*100 and x < 2000 + (category + 1)*100])\n",
    "\n",
    "    return code\n",
    "\n",
    "\n",
    "def recommend_checklist(checklist_list: list) -> int:\n",
    "    category = random.randint(1, 7)\n",
    "\n",
    "    code = random.choice([x for x in checklist_list if x > 1000 + category*100 and x < 1000 +  (category + 1)*100])\n",
    "\n",
    "    return code"
   ]
  },
  {
   "cell_type": "code",
   "execution_count": 16,
   "metadata": {},
   "outputs": [
    {
     "name": "stdout",
     "output_type": "stream",
     "text": [
      "recommended mission:     Laugh a lot\n"
     ]
    }
   ],
   "source": [
    "# Generates arbitrary user(Alice)'s average score\n",
    "\n",
    "Alice_score = np.random.randn(7)\n",
    "Alice_score /= max(Alice_score)\n",
    "\n",
    "print(\"recommended mission:    \", mission_dict[recommend_mission(mission_dict, Alice_score)])"
   ]
  },
  {
   "cell_type": "code",
   "execution_count": 17,
   "metadata": {},
   "outputs": [
    {
     "name": "stdout",
     "output_type": "stream",
     "text": [
      "1/1 [==============================] - 0s 72ms/step\n",
      "likelihood of lonelydeath:    11.893965\n"
     ]
    }
   ],
   "source": [
    "# Load our model and predict likelihood of lonely death\n",
    "\n",
    "model = models.load_model(\"wiro_DL_model.h5\", compile= False)\n",
    "model.compile(optimizer=tf.keras.optimizers.Adam(0.002), loss='mse', metrics=['mae'])\n",
    "likelihood = model.predict(pd.DataFrame(Alice_score.reshape((1, -1))))\n",
    "\n",
    "print(\"likelihood of lonelydeath:   \",  likelihood[(0, 0)])"
   ]
  }
 ],
 "metadata": {
  "kernelspec": {
   "display_name": "base",
   "language": "python",
   "name": "python3"
  },
  "language_info": {
   "codemirror_mode": {
    "name": "ipython",
    "version": 3
   },
   "file_extension": ".py",
   "mimetype": "text/x-python",
   "name": "python",
   "nbconvert_exporter": "python",
   "pygments_lexer": "ipython3",
   "version": "3.9.15"
  },
  "orig_nbformat": 4
 },
 "nbformat": 4,
 "nbformat_minor": 2
}
